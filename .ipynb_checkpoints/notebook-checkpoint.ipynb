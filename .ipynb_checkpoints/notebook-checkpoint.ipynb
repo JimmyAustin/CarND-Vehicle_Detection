{
 "cells": [
  {
   "cell_type": "code",
   "execution_count": 1,
   "metadata": {
    "collapsed": false,
    "deletable": true,
    "editable": true
   },
   "outputs": [
    {
     "name": "stdout",
     "output_type": "stream",
     "text": [
      "['Undistorter', '__builtins__', '__cached__', '__doc__', '__file__', '__loader__', '__name__', '__package__', '__path__', '__spec__', 'bg', 'cv2', 'extract_hog_features', 'fill', 'fun', 'get_hog_features', 'hog', 'hog_extractor', 'isfile', 'join', 'listdir', 'log_progress', 'math', 'multiprocessing', 'np', 'parmap', 'pool', 'pooly', 'quickpool', 'sliding_window', 'split_dataset', 'undistorter']\n"
     ]
    }
   ],
   "source": [
    "%reload_ext autoreload\n",
    "\n",
    "%autoreload 2\n",
    "\n",
    "import matplotlib.pyplot as plt\n",
    "import cv2\n",
    "import numpy as np\n",
    "import glob\n",
    "from tqdm import tqdm\n",
    "\n",
    "%aimport -plt\n",
    "%aimport -np\n",
    "%aimport -glob\n",
    "%aimport -cv2\n",
    "\n",
    "from os import listdir\n",
    "from os.path import isfile, join\n",
    "\n",
    "%matplotlib inline\n",
    "\n",
    "import os\n",
    "import sys\n",
    "nb_dir = os.path.split(os.getcwd())[0]\n",
    "nb_dir = os.getcwd()\n",
    "if nb_dir not in sys.path:\n",
    "    sys.path.append(nb_dir)\n",
    "import car_detection\n",
    "print(dir(car_detection))\n",
    "from car_detection import log_progress\n",
    "import builtins\n",
    "from IPython.lib import deepreload\n"
   ]
  },
  {
   "cell_type": "code",
   "execution_count": 2,
   "metadata": {
    "collapsed": false,
    "deletable": true,
    "editable": true
   },
   "outputs": [],
   "source": [
    "undistorter = car_detection.Undistorter.load_from_path('./camera_cal')"
   ]
  },
  {
   "cell_type": "code",
   "execution_count": 3,
   "metadata": {
    "collapsed": false,
    "deletable": true,
    "editable": true
   },
   "outputs": [
    {
     "name": "stdout",
     "output_type": "stream",
     "text": [
      "(720, 1280, 3)\n",
      "(720, 1280, 3)\n",
      "(720, 1280, 3)\n",
      "(720, 1280, 3)\n",
      "(720, 1280, 3)\n",
      "(720, 1280, 3)\n"
     ]
    }
   ],
   "source": [
    "test_path = '.\\\\test_images'\n",
    "test_imgs = [cv2.imread(join(test_path, f)) for f in listdir(test_path) if isfile(join(test_path, f))]\n",
    "undistorted_images = []\n",
    "\n",
    "for img in test_imgs:\n",
    "    print(img.shape)\n",
    "    img = cv2.cvtColor(img, cv2.COLOR_BGR2RGB)\n",
    "    dst = undistorter.undistort(img)\n",
    "    undistorted_images.append(dst)"
   ]
  },
  {
   "cell_type": "code",
   "execution_count": 4,
   "metadata": {
    "collapsed": false,
    "deletable": true,
    "editable": true
   },
   "outputs": [],
   "source": [
    "def find_pictures(path):\n",
    "    pictures = []\n",
    "    for f in listdir(path):\n",
    "        joined_path = join(path, f)\n",
    "        if isfile(joined_path):\n",
    "            pictures.append(joined_path)\n",
    "        else:\n",
    "            pictures.extend(find_pictures(joined_path))\n",
    "    return pictures\n",
    "\n",
    "def load_pictures(paths):\n",
    "    def load_pic(path):\n",
    "        img = cv2.imread(path)\n",
    "        if img is not None:\n",
    "            return cv2.cvtColor(img, cv2.COLOR_BGR2RGB)\n",
    "        return None\n",
    "    return [r for r in (load_pic(path) for path in log_progress(paths)) if r is not None]"
   ]
  },
  {
   "cell_type": "code",
   "execution_count": 5,
   "metadata": {
    "collapsed": false,
    "deletable": true,
    "editable": true
   },
   "outputs": [
    {
     "data": {
      "application/vnd.jupyter.widget-view+json": {
       "model_id": "782f535936f64b30b34a10abd226cd21"
      }
     },
     "metadata": {},
     "output_type": "display_data"
    }
   ],
   "source": [
    "vehicle_pictures = load_pictures(find_pictures('.\\\\training_data\\\\vehicles'))"
   ]
  },
  {
   "cell_type": "code",
   "execution_count": 6,
   "metadata": {
    "collapsed": false,
    "deletable": true,
    "editable": true
   },
   "outputs": [
    {
     "data": {
      "application/vnd.jupyter.widget-view+json": {
       "model_id": "b923f0dc96174ae69d56123677ae1e9d"
      }
     },
     "metadata": {},
     "output_type": "display_data"
    }
   ],
   "source": [
    "nonvehicle_pictures = load_pictures(find_pictures('.\\\\training_data\\\\non-vehicles'))"
   ]
  },
  {
   "cell_type": "code",
   "execution_count": 7,
   "metadata": {
    "collapsed": false,
    "deletable": true,
    "editable": true,
    "scrolled": true
   },
   "outputs": [
    {
     "name": "stdout",
     "output_type": "stream",
     "text": [
      "vehicle_labels Count: 8792\n",
      "nonvehicle_labels Count: 8968\n",
      "Total Count: 17760\n"
     ]
    }
   ],
   "source": [
    "vehicle_labels = len(vehicle_pictures) * [True]\n",
    "nonvehicle_labels = len(nonvehicle_pictures) * [False]\n",
    "\n",
    "total_pictures = np.concatenate((vehicle_pictures, nonvehicle_pictures))\n",
    "total_labels = np.concatenate((vehicle_labels, nonvehicle_labels))\n",
    "\n",
    "print(\"vehicle_labels Count:\", len(vehicle_labels))\n",
    "print(\"nonvehicle_labels Count:\", len(nonvehicle_labels))\n",
    "print(\"Total Count:\", len(total_labels))"
   ]
  },
  {
   "cell_type": "code",
   "execution_count": 8,
   "metadata": {
    "collapsed": false,
    "deletable": true,
    "editable": true
   },
   "outputs": [
    {
     "name": "stdout",
     "output_type": "stream",
     "text": [
      "Counter({(64, 64, 3): 17760})\n"
     ]
    }
   ],
   "source": [
    "from collections import Counter\n",
    "print(Counter([img.shape for img in total_pictures]))\n",
    "# All the same size, RGB 64x64"
   ]
  },
  {
   "cell_type": "code",
   "execution_count": 9,
   "metadata": {
    "collapsed": false,
    "deletable": true,
    "editable": true
   },
   "outputs": [],
   "source": [
    "from sklearn.utils import shuffle\n",
    "from sklearn.model_selection import train_test_split\n",
    "\n",
    "total_pictures, total_labels = shuffle(total_pictures, total_labels)"
   ]
  },
  {
   "cell_type": "code",
   "execution_count": 57,
   "metadata": {
    "collapsed": false,
    "deletable": true,
    "editable": true
   },
   "outputs": [],
   "source": [
    "def show_image(img, title=''):\n",
    "    fig = plt.figure(figsize=(20,20))\n",
    "    plt.imshow(img)\n",
    "    fig.suptitle(title)"
   ]
  },
  {
   "cell_type": "code",
   "execution_count": 11,
   "metadata": {
    "collapsed": false,
    "deletable": true,
    "editable": true
   },
   "outputs": [],
   "source": [
    "# def get_features(img):\n",
    "#     features = car_detection.extract_hog_features(img, hog_channel='ALL')\n",
    "#     return features\n",
    "\n",
    "# def get_features_from_images(images):\n",
    "#     return [get_features(img) for img in images]\n"
   ]
  },
  {
   "cell_type": "code",
   "execution_count": 12,
   "metadata": {
    "collapsed": false,
    "deletable": true,
    "editable": true
   },
   "outputs": [],
   "source": []
  },
  {
   "cell_type": "code",
   "execution_count": 17,
   "metadata": {
    "collapsed": false,
    "deletable": true,
    "editable": true
   },
   "outputs": [
    {
     "name": "stdout",
     "output_type": "stream",
     "text": [
      "17760\n",
      "['Undistorter', '__builtins__', '__cached__', '__file__', '__loader__', '__name__', '__package__', '__path__', '__spec__', 'bg', 'cv2', 'extract_hog_features', 'feature_extractor', 'fill', 'fun', 'get_features', 'get_hog_features', 'hog', 'isfile', 'join', 'listdir', 'log_progress', 'math', 'multiprocessing', 'np', 'parmap', 'pool', 'pooly', 'sliding_window', 'split_dataset']\n"
     ]
    },
    {
     "data": {
      "application/vnd.jupyter.widget-view+json": {
       "model_id": "0b196680e30741c483d7e35d2a42b502"
      }
     },
     "metadata": {},
     "output_type": "display_data"
    },
    {
     "data": {
      "application/vnd.jupyter.widget-view+json": {
       "model_id": "7cbc9ec9c466489bad94e5754e772986"
      }
     },
     "metadata": {},
     "output_type": "display_data"
    },
    {
     "data": {
      "application/vnd.jupyter.widget-view+json": {
       "model_id": "a5a523758c3f4eebad1f2e462dc82c63"
      }
     },
     "metadata": {},
     "output_type": "display_data"
    }
   ],
   "source": [
    "print(len(total_pictures))\n",
    "print(dir(car_detection))\n",
    "total_picture_features = car_detection.parmap(car_detection.get_features, total_pictures)\n"
   ]
  },
  {
   "cell_type": "code",
   "execution_count": 20,
   "metadata": {
    "collapsed": false,
    "deletable": true,
    "editable": true
   },
   "outputs": [],
   "source": [
    "from sklearn.preprocessing import StandardScaler\n",
    "\n",
    "X_scaler = StandardScaler().fit(total_picture_features)\n",
    "\n",
    "total_picture_features_scaled = X_scaler.transform(total_picture_features)"
   ]
  },
  {
   "cell_type": "code",
   "execution_count": 21,
   "metadata": {
    "collapsed": true,
    "deletable": true,
    "editable": true
   },
   "outputs": [],
   "source": [
    "X_train, X_test, y_train, y_test = train_test_split(total_picture_features_scaled, total_labels, test_size=0.25)"
   ]
  },
  {
   "cell_type": "code",
   "execution_count": 22,
   "metadata": {
    "collapsed": false,
    "deletable": true,
    "editable": true
   },
   "outputs": [
    {
     "name": "stdout",
     "output_type": "stream",
     "text": [
      "(13320, 5292)\n",
      "35.89 Seconds to train SVC...\n",
      "Test Accuracy of SVC =  0.9705\n",
      "My SVC predicts:  [False False False False False  True False False  True False]\n",
      "For these 10 labels:  [False False False False False  True False False  True False]\n",
      "0.0145 Seconds to predict 10 labels with SVC\n"
     ]
    }
   ],
   "source": [
    "from sklearn.svm import LinearSVC\n",
    "import time\n",
    "\n",
    "svc = LinearSVC()\n",
    "# Check the training time for the SVC\n",
    "t=time.time()\n",
    "print(X_train.shape)\n",
    "svc.fit(X_train, y_train)\n",
    "t2 = time.time()\n",
    "print(round(t2-t, 2), 'Seconds to train SVC...')\n",
    "# Check the score of the SVC\n",
    "print('Test Accuracy of SVC = ', round(svc.score(X_test, y_test), 4))\n",
    "# Check the prediction time for a single sample\n",
    "t=time.time()\n",
    "n_predict = 10\n",
    "print('My SVC predicts: ', svc.predict(X_test[0:n_predict]))\n",
    "print('For these',n_predict, 'labels: ', y_test[0:n_predict])\n",
    "t2 = time.time()\n",
    "print(round(t2-t, 5), 'Seconds to predict', n_predict,'labels with SVC')"
   ]
  },
  {
   "cell_type": "code",
   "execution_count": 71,
   "metadata": {
    "collapsed": false,
    "deletable": true,
    "editable": true
   },
   "outputs": [
    {
     "ename": "AttributeError",
     "evalue": "module 'car_detection' has no attribute 'slide_window'",
     "output_type": "error",
     "traceback": [
      "\u001b[1;31m---------------------------------------------------------------------------\u001b[0m",
      "\u001b[1;31mAttributeError\u001b[0m                            Traceback (most recent call last)",
      "\u001b[1;32m<ipython-input-71-339f102bce34>\u001b[0m in \u001b[0;36m<module>\u001b[1;34m()\u001b[0m\n\u001b[0;32m      1\u001b[0m \u001b[0morig_img\u001b[0m \u001b[1;33m=\u001b[0m \u001b[0mundistorted_images\u001b[0m\u001b[1;33m[\u001b[0m\u001b[1;36m0\u001b[0m\u001b[1;33m]\u001b[0m\u001b[1;33m.\u001b[0m\u001b[0mcopy\u001b[0m\u001b[1;33m(\u001b[0m\u001b[1;33m)\u001b[0m\u001b[1;33m\u001b[0m\u001b[0m\n\u001b[1;32m----> 2\u001b[1;33m \u001b[0mwindows\u001b[0m \u001b[1;33m=\u001b[0m  \u001b[0mcar_detection\u001b[0m\u001b[1;33m.\u001b[0m\u001b[0mslide_window\u001b[0m\u001b[1;33m(\u001b[0m\u001b[0morig_img\u001b[0m\u001b[1;33m)\u001b[0m\u001b[1;33m\u001b[0m\u001b[0m\n\u001b[0m\u001b[0;32m      3\u001b[0m \u001b[0mprint\u001b[0m\u001b[1;33m(\u001b[0m\u001b[0mlen\u001b[0m\u001b[1;33m(\u001b[0m\u001b[0mwindows\u001b[0m\u001b[1;33m)\u001b[0m\u001b[1;33m)\u001b[0m\u001b[1;33m\u001b[0m\u001b[0m\n\u001b[0;32m      4\u001b[0m \u001b[1;33m\u001b[0m\u001b[0m\n\u001b[0;32m      5\u001b[0m \u001b[0mmatching_boxes\u001b[0m \u001b[1;33m=\u001b[0m \u001b[1;33m[\u001b[0m\u001b[1;33m]\u001b[0m\u001b[1;33m\u001b[0m\u001b[0m\n",
      "\u001b[1;31mAttributeError\u001b[0m: module 'car_detection' has no attribute 'slide_window'"
     ]
    }
   ],
   "source": [
    "orig_img = undistorted_images[0].copy()\n",
    "windows =  car_detection.sliding_window(orig_img)\n",
    "print(len(windows))\n",
    "\n",
    "matching_boxes = []\n",
    "results = []\n",
    "for window in log_progress(windows):\n",
    "    img = window[2]\n",
    "    img_features = car_detection.get_features(img)\n",
    "    if len(img_features) == 5292:\n",
    "        result = svc.predict([img_features])[0]\n",
    "        results.append(result)\n",
    "        img_w = img.shape[0]\n",
    "        img_h = img.shape[1]\n",
    "        cv2.rectangle(orig_img, (window[0], window[1]), (window[0] + img_w, window[1] + img_h),color=(0,0,255))\n",
    "    \n",
    "show_image(orig_img)\n",
    "print(Counter(results))"
   ]
  },
  {
   "cell_type": "code",
   "execution_count": null,
   "metadata": {
    "collapsed": false,
    "deletable": true,
    "editable": true
   },
   "outputs": [],
   "source": [
    "import math\n",
    "def split_dataset(dataset, splits=3):\n",
    "    partition = math.ceil(len(dataset)/splits)\n",
    "    partitions = []\n",
    "    for i in range(splits):\n",
    "        partitions.append(dataset[i*partition:(i+1)*partition])\n",
    "    return partitions\n",
    "    \n",
    "print(split_dataset(range(1,100)))"
   ]
  }
 ],
 "metadata": {
  "kernelspec": {
   "display_name": "Python 3",
   "language": "python",
   "name": "python3"
  },
  "language_info": {
   "codemirror_mode": {
    "name": "ipython",
    "version": 3
   },
   "file_extension": ".py",
   "mimetype": "text/x-python",
   "name": "python",
   "nbconvert_exporter": "python",
   "pygments_lexer": "ipython3",
   "version": "3.5.0"
  }
 },
 "nbformat": 4,
 "nbformat_minor": 2
}
